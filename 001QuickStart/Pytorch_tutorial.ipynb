{
  "cells": [
    {
      "cell_type": "markdown",
      "metadata": {
        "id": "eVXWxi-0AuLW"
      },
      "source": [
        "# Quick start"
      ]
    },
    {
      "cell_type": "code",
      "execution_count": 13,
      "metadata": {
        "id": "MIf1IPa__PJs"
      },
      "outputs": [],
      "source": [
        "import torch\n",
        "from torch import nn\n",
        "from torch.utils.data import DataLoader\n",
        "from torchvision import datasets\n",
        "from torchvision.transforms import ToTensor"
      ]
    },
    {
      "cell_type": "code",
      "execution_count": 14,
      "metadata": {
        "id": "8YDh4oYi_ktY"
      },
      "outputs": [],
      "source": [
        "# Download data from datasets\n",
        "training_data = datasets.FashionMNIST(\n",
        "    root=\"data\",\n",
        "    train=True,\n",
        "    download=True,\n",
        "    transform=ToTensor(),\n",
        ")\n",
        "\n",
        "test_data = datasets.FashionMNIST(\n",
        "    root=\"data\",\n",
        "    train=False,\n",
        "    download=True,\n",
        "    transform=ToTensor(),\n",
        ")"
      ]
    },
    {
      "cell_type": "code",
      "execution_count": 15,
      "metadata": {
        "colab": {
          "base_uri": "https://localhost:8080/"
        },
        "id": "0A_k0uihAbSf",
        "outputId": "a0dd8998-c51f-40d8-91ee-c90ca9694ac1"
      },
      "outputs": [
        {
          "output_type": "stream",
          "name": "stdout",
          "text": [
            "Shape of X [N, C, H, W]: torch.Size([64, 1, 28, 28])\n",
            "Shape of y: torch.Size([64]) torch.int64\n"
          ]
        }
      ],
      "source": [
        "# Create data loaders.\n",
        "batch_size = 64\n",
        "\n",
        "train_dataloader = DataLoader(training_data, batch_size=batch_size)\n",
        "test_dataloader = DataLoader(test_data, batch_size=batch_size)\n",
        "\n",
        "for X, y in test_dataloader:\n",
        "    print(f\"Shape of X [N, C, H, W]: {X.shape}\")\n",
        "    print(f\"Shape of y: {y.shape} {y.dtype}\")\n",
        "    break"
      ]
    },
    {
      "cell_type": "code",
      "execution_count": 16,
      "metadata": {
        "colab": {
          "base_uri": "https://localhost:8080/"
        },
        "id": "o6wTG83LCVA_",
        "outputId": "ccc904ec-3bb3-4b2b-f331-595042418b7f"
      },
      "outputs": [
        {
          "output_type": "stream",
          "name": "stdout",
          "text": [
            "Using cuda device\n"
          ]
        }
      ],
      "source": [
        "device = \"cuda\" if torch.cuda.is_available() else \"cpu\"\n",
        "print(f\"Using {device} device\")"
      ]
    },
    {
      "cell_type": "code",
      "execution_count": 17,
      "metadata": {
        "colab": {
          "base_uri": "https://localhost:8080/"
        },
        "id": "8-z6lPkqmwIE",
        "outputId": "76da91ec-f86e-403a-8181-14a4f4292ca5"
      },
      "outputs": [
        {
          "output_type": "stream",
          "name": "stdout",
          "text": [
            "NeuralNetwork(\n",
            "  (flatten): Flatten(start_dim=1, end_dim=-1)\n",
            "  (linear_relu_stack): Sequential(\n",
            "    (0): Linear(in_features=784, out_features=512, bias=True)\n",
            "    (1): ReLU()\n",
            "    (2): Linear(in_features=512, out_features=512, bias=True)\n",
            "    (3): ReLU()\n",
            "    (4): Linear(in_features=512, out_features=10, bias=True)\n",
            "  )\n",
            ")\n"
          ]
        }
      ],
      "source": [
        "from torch.nn.modules.linear import Linear\n",
        "from torch.nn.modules.activation import ReLU, Sigmoid\n",
        "\n",
        "# Define model\n",
        "class NeuralNetwork(nn.Module):\n",
        "    def __init__(self):\n",
        "        super().__init__()\n",
        "        self.flatten = nn.Flatten()\n",
        "        self.linear_relu_stack = nn.Sequential(\n",
        "            nn.Linear(28*28, 512),\n",
        "            nn.ReLU(),\n",
        "            nn.Linear(512, 512),\n",
        "            nn.ReLU(),\n",
        "            nn.Linear(512, 10)\n",
        "        )\n",
        "\n",
        "    def forward(self, x):\n",
        "        x = self.flatten(x)\n",
        "        logits = self.linear_relu_stack(x)\n",
        "        return logits\n",
        "\n",
        "model = NeuralNetwork().to(device)\n",
        "print(model)"
      ]
    },
    {
      "cell_type": "code",
      "execution_count": 18,
      "metadata": {
        "id": "Nc5SeAgCCylZ"
      },
      "outputs": [],
      "source": [
        "# Loss Function\n",
        "loss_fn = nn.CrossEntropyLoss()\n",
        "\n",
        "# Optimizer\n",
        "# optimizer = torch.optim.SGD(model.parameters(), lr = 1e-4)\n",
        "optimizer = torch.optim.Adam(model.parameters(), lr = 1e-4)"
      ]
    },
    {
      "cell_type": "code",
      "execution_count": 19,
      "metadata": {
        "id": "JGv3BIOTGRgm"
      },
      "outputs": [],
      "source": [
        "# Train\n",
        "def train(dataloader, model, loss_fn, optimizer):\n",
        "    size = len(dataloader.dataset)\n",
        "    model.train()\n",
        "\n",
        "    # batch(0-937), batch_size = 64 => batch * batch_size = 938 * 64 = 60032 > 60000\n",
        "    for batch, (X, y) in enumerate(dataloader): # Transform dataloader into a enumerate\n",
        "        X, y = X.to(device), y.to(device)\n",
        "\n",
        "        # Compute prediction error\n",
        "        pred = model(X)\n",
        "        loss = loss_fn(pred, y)\n",
        "\n",
        "        # Backpropagation\n",
        "        optimizer.zero_grad()\n",
        "        loss.backward()\n",
        "        optimizer.step()\n",
        "\n",
        "        if batch % 100 == 0:\n",
        "            loss, current = loss.item(), batch * len(X)\n",
        "            print(f\"loss: {loss:>7f}  [{current:>5d}/{size:>5d}]\")"
      ]
    },
    {
      "cell_type": "code",
      "execution_count": 20,
      "metadata": {
        "id": "PoQIMC2_NBNX"
      },
      "outputs": [],
      "source": [
        "# Test\n",
        "def test(dataloader, model, loss_fn):\n",
        "    size = len(dataloader.dataset)\n",
        "    num_batches = len(dataloader)\n",
        "    model.eval()\n",
        "    test_loss, correct = 0, 0\n",
        "    with torch.no_grad():\n",
        "        for X, y in dataloader:\n",
        "            X, y = X.to(device), y.to(device)\n",
        "            pred = model(X)\n",
        "            test_loss += loss_fn(pred, y).item()\n",
        "            correct += (pred.argmax(1) == y).type(torch.float).sum().item()\n",
        "    test_loss /= num_batches\n",
        "    correct /= size\n",
        "    print(f\"Test Error: \\n Accuracy: {(100*correct):>0.1f}%, Avg loss: {test_loss:>8f} \\n\")"
      ]
    },
    {
      "cell_type": "code",
      "execution_count": 21,
      "metadata": {
        "colab": {
          "base_uri": "https://localhost:8080/"
        },
        "id": "fOr8gZChTXM_",
        "outputId": "a88dc75e-e982-4baa-ebcf-7545ae19d2b2"
      },
      "outputs": [
        {
          "output_type": "stream",
          "name": "stdout",
          "text": [
            "Epoch 1\n",
            "-------------------------------\n",
            "loss: 2.302735  [    0/60000]\n",
            "loss: 1.024533  [ 6400/60000]\n",
            "loss: 0.565655  [12800/60000]\n",
            "loss: 0.734523  [19200/60000]\n",
            "loss: 0.613135  [25600/60000]\n",
            "loss: 0.507171  [32000/60000]\n",
            "loss: 0.503685  [38400/60000]\n",
            "loss: 0.685307  [44800/60000]\n",
            "loss: 0.610994  [51200/60000]\n",
            "loss: 0.490479  [57600/60000]\n",
            "Test Error: \n",
            " Accuracy: 82.3%, Avg loss: 0.494783 \n",
            "\n",
            "Epoch 2\n",
            "-------------------------------\n",
            "loss: 0.364641  [    0/60000]\n",
            "loss: 0.501033  [ 6400/60000]\n",
            "loss: 0.343851  [12800/60000]\n",
            "loss: 0.521218  [19200/60000]\n",
            "loss: 0.456465  [25600/60000]\n",
            "loss: 0.411296  [32000/60000]\n",
            "loss: 0.386191  [38400/60000]\n",
            "loss: 0.621214  [44800/60000]\n",
            "loss: 0.554179  [51200/60000]\n",
            "loss: 0.428047  [57600/60000]\n",
            "Test Error: \n",
            " Accuracy: 84.6%, Avg loss: 0.438098 \n",
            "\n",
            "Epoch 3\n",
            "-------------------------------\n",
            "loss: 0.276228  [    0/60000]\n",
            "loss: 0.424009  [ 6400/60000]\n",
            "loss: 0.295987  [12800/60000]\n",
            "loss: 0.457454  [19200/60000]\n",
            "loss: 0.373482  [25600/60000]\n",
            "loss: 0.384365  [32000/60000]\n",
            "loss: 0.354051  [38400/60000]\n",
            "loss: 0.573339  [44800/60000]\n",
            "loss: 0.521664  [51200/60000]\n",
            "loss: 0.407594  [57600/60000]\n",
            "Test Error: \n",
            " Accuracy: 85.4%, Avg loss: 0.410276 \n",
            "\n",
            "Epoch 4\n",
            "-------------------------------\n",
            "loss: 0.241887  [    0/60000]\n",
            "loss: 0.379303  [ 6400/60000]\n",
            "loss: 0.267412  [12800/60000]\n",
            "loss: 0.417969  [19200/60000]\n",
            "loss: 0.327270  [25600/60000]\n",
            "loss: 0.361553  [32000/60000]\n",
            "loss: 0.332040  [38400/60000]\n",
            "loss: 0.539714  [44800/60000]\n",
            "loss: 0.491256  [51200/60000]\n",
            "loss: 0.398665  [57600/60000]\n",
            "Test Error: \n",
            " Accuracy: 86.0%, Avg loss: 0.392294 \n",
            "\n",
            "Epoch 5\n",
            "-------------------------------\n",
            "loss: 0.218804  [    0/60000]\n",
            "loss: 0.350789  [ 6400/60000]\n",
            "loss: 0.241925  [12800/60000]\n",
            "loss: 0.383956  [19200/60000]\n",
            "loss: 0.305333  [25600/60000]\n",
            "loss: 0.341787  [32000/60000]\n",
            "loss: 0.315535  [38400/60000]\n",
            "loss: 0.512029  [44800/60000]\n",
            "loss: 0.463804  [51200/60000]\n",
            "loss: 0.390871  [57600/60000]\n",
            "Test Error: \n",
            " Accuracy: 86.6%, Avg loss: 0.379056 \n",
            "\n",
            "DONE\n"
          ]
        }
      ],
      "source": [
        "epoch = 5\n",
        "for t in range(epoch):\n",
        "  print(f\"Epoch {t+1}\\n-------------------------------\")\n",
        "  train(train_dataloader, model, loss_fn, optimizer)\n",
        "  test(test_dataloader, model, loss_fn)\n",
        "print(\"DONE\")"
      ]
    },
    {
      "cell_type": "code",
      "execution_count": 22,
      "metadata": {
        "colab": {
          "base_uri": "https://localhost:8080/"
        },
        "id": "K1LqFIRvWmSR",
        "outputId": "60f7665c-a410-40c6-a65e-c371d65efea9"
      },
      "outputs": [
        {
          "output_type": "stream",
          "name": "stdout",
          "text": [
            "Saved PyTorch Model State to model.pth\n"
          ]
        }
      ],
      "source": [
        "# Saving Models\n",
        "torch.save(model.state_dict(), \"model.pth\")\n",
        "print(\"Saved PyTorch Model State to model.pth\")"
      ]
    },
    {
      "cell_type": "code",
      "execution_count": 23,
      "metadata": {
        "colab": {
          "base_uri": "https://localhost:8080/"
        },
        "id": "-p0h7wXSGitJ",
        "outputId": "8f17df53-f278-41bb-b418-a665c3c055f7"
      },
      "outputs": [
        {
          "output_type": "execute_result",
          "data": {
            "text/plain": [
              "<All keys matched successfully>"
            ]
          },
          "metadata": {},
          "execution_count": 23
        }
      ],
      "source": [
        "# Loading Models\n",
        "model = NeuralNetwork()\n",
        "model.load_state_dict(torch.load(\"model.pth\"))"
      ]
    },
    {
      "cell_type": "code",
      "execution_count": 28,
      "metadata": {
        "colab": {
          "base_uri": "https://localhost:8080/"
        },
        "id": "o4gSBJPTHVAv",
        "outputId": "9f6ebd61-3278-4783-f5e4-ae067c6baca1"
      },
      "outputs": [
        {
          "output_type": "stream",
          "name": "stdout",
          "text": [
            "Predicted: \"Coat\", Actual: \"Coat\"\n"
          ]
        }
      ],
      "source": [
        "classes = [\n",
        "    \"T-shirt/top\",\n",
        "    \"Trouser\",\n",
        "    \"Pullover\",\n",
        "    \"Dress\",\n",
        "    \"Coat\",\n",
        "    \"Sandal\",\n",
        "    \"Shirt\",\n",
        "    \"Sneaker\",\n",
        "    \"Bag\",\n",
        "    \"Ankle boot\",\n",
        "]\n",
        "\n",
        "# Put the model into evaluation mode\n",
        "model.eval()\n",
        "x, y = test_data[6][0], test_data[6][1]\n",
        "with torch.no_grad(): # torch.no_grad() means the parameter would not update when evaluation\n",
        "  pred = model(x)\n",
        "  predicted, actual = classes[pred[0].argmax(0)], classes[y]\n",
        "  print(f'Predicted: \"{predicted}\", Actual: \"{actual}\"')"
      ]
    }
  ],
  "metadata": {
    "accelerator": "GPU",
    "colab": {
      "collapsed_sections": [],
      "machine_shape": "hm",
      "provenance": []
    },
    "gpuClass": "premium",
    "kernelspec": {
      "display_name": "Python 3",
      "name": "python3"
    },
    "language_info": {
      "name": "python"
    }
  },
  "nbformat": 4,
  "nbformat_minor": 0
}